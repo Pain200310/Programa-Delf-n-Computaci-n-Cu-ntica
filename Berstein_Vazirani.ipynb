{
  "nbformat": 4,
  "nbformat_minor": 0,
  "metadata": {
    "colab": {
      "provenance": []
    },
    "kernelspec": {
      "name": "python3",
      "display_name": "Python 3"
    },
    "language_info": {
      "name": "python"
    }
  },
  "cells": [
    {
      "cell_type": "markdown",
      "source": [
        "Implementacion de Berstein Vazirani.\n",
        "\n"
      ],
      "metadata": {
        "id": "ASDZAtpVb7XC"
      }
    },
    {
      "cell_type": "code",
      "source": [
        "!pip uninstall qiskit -y\n",
        "!pip uninstall qiskit-aer -y\n"
      ],
      "metadata": {
        "colab": {
          "base_uri": "https://localhost:8080/"
        },
        "id": "ilbEE1nJb8Sc",
        "outputId": "aca92022-723b-4998-a422-054d88f1cc05"
      },
      "execution_count": null,
      "outputs": [
        {
          "output_type": "stream",
          "name": "stdout",
          "text": [
            "\u001b[33mWARNING: Skipping qiskit as it is not installed.\u001b[0m\u001b[33m\n",
            "\u001b[0m\u001b[33mWARNING: Skipping qiskit-aer as it is not installed.\u001b[0m\u001b[33m\n",
            "\u001b[0m"
          ]
        }
      ]
    },
    {
      "cell_type": "code",
      "source": [
        "!pip install qiskit\n",
        "!pip install qiskit-aer"
      ],
      "metadata": {
        "colab": {
          "base_uri": "https://localhost:8080/"
        },
        "id": "RXhlWZL2cjam",
        "outputId": "8fd58995-4c75-4a1a-faeb-a2ce080b4063"
      },
      "execution_count": null,
      "outputs": [
        {
          "output_type": "stream",
          "name": "stdout",
          "text": [
            "Collecting qiskit\n",
            "  Downloading qiskit-2.1.1-cp39-abi3-manylinux_2_17_x86_64.manylinux2014_x86_64.whl.metadata (12 kB)\n",
            "Collecting rustworkx>=0.15.0 (from qiskit)\n",
            "  Downloading rustworkx-0.16.0-cp39-abi3-manylinux_2_17_x86_64.manylinux2014_x86_64.whl.metadata (10 kB)\n",
            "Requirement already satisfied: numpy<3,>=1.17 in /usr/local/lib/python3.11/dist-packages (from qiskit) (2.0.2)\n",
            "Requirement already satisfied: scipy>=1.5 in /usr/local/lib/python3.11/dist-packages (from qiskit) (1.15.3)\n",
            "Requirement already satisfied: dill>=0.3 in /usr/local/lib/python3.11/dist-packages (from qiskit) (0.3.7)\n",
            "Collecting stevedore>=3.0.0 (from qiskit)\n",
            "  Downloading stevedore-5.4.1-py3-none-any.whl.metadata (2.3 kB)\n",
            "Requirement already satisfied: typing-extensions in /usr/local/lib/python3.11/dist-packages (from qiskit) (4.14.1)\n",
            "Collecting pbr>=2.0.0 (from stevedore>=3.0.0->qiskit)\n",
            "  Downloading pbr-6.1.1-py2.py3-none-any.whl.metadata (3.4 kB)\n",
            "Requirement already satisfied: setuptools in /usr/local/lib/python3.11/dist-packages (from pbr>=2.0.0->stevedore>=3.0.0->qiskit) (75.2.0)\n",
            "Downloading qiskit-2.1.1-cp39-abi3-manylinux_2_17_x86_64.manylinux2014_x86_64.whl (7.5 MB)\n",
            "\u001b[2K   \u001b[90m━━━━━━━━━━━━━━━━━━━━━━━━━━━━━━━━━━━━━━━━\u001b[0m \u001b[32m7.5/7.5 MB\u001b[0m \u001b[31m26.4 MB/s\u001b[0m eta \u001b[36m0:00:00\u001b[0m\n",
            "\u001b[?25hDownloading rustworkx-0.16.0-cp39-abi3-manylinux_2_17_x86_64.manylinux2014_x86_64.whl (2.1 MB)\n",
            "\u001b[2K   \u001b[90m━━━━━━━━━━━━━━━━━━━━━━━━━━━━━━━━━━━━━━━━\u001b[0m \u001b[32m2.1/2.1 MB\u001b[0m \u001b[31m40.5 MB/s\u001b[0m eta \u001b[36m0:00:00\u001b[0m\n",
            "\u001b[?25hDownloading stevedore-5.4.1-py3-none-any.whl (49 kB)\n",
            "\u001b[2K   \u001b[90m━━━━━━━━━━━━━━━━━━━━━━━━━━━━━━━━━━━━━━━━\u001b[0m \u001b[32m49.5/49.5 kB\u001b[0m \u001b[31m2.3 MB/s\u001b[0m eta \u001b[36m0:00:00\u001b[0m\n",
            "\u001b[?25hDownloading pbr-6.1.1-py2.py3-none-any.whl (108 kB)\n",
            "\u001b[2K   \u001b[90m━━━━━━━━━━━━━━━━━━━━━━━━━━━━━━━━━━━━━━━━\u001b[0m \u001b[32m109.0/109.0 kB\u001b[0m \u001b[31m8.2 MB/s\u001b[0m eta \u001b[36m0:00:00\u001b[0m\n",
            "\u001b[?25hInstalling collected packages: rustworkx, pbr, stevedore, qiskit\n",
            "Successfully installed pbr-6.1.1 qiskit-2.1.1 rustworkx-0.16.0 stevedore-5.4.1\n",
            "Collecting qiskit-aer\n",
            "  Downloading qiskit_aer-0.17.1-cp311-cp311-manylinux_2_17_x86_64.manylinux2014_x86_64.whl.metadata (8.3 kB)\n",
            "Requirement already satisfied: qiskit>=1.1.0 in /usr/local/lib/python3.11/dist-packages (from qiskit-aer) (2.1.1)\n",
            "Requirement already satisfied: numpy>=1.16.3 in /usr/local/lib/python3.11/dist-packages (from qiskit-aer) (2.0.2)\n",
            "Requirement already satisfied: scipy>=1.0 in /usr/local/lib/python3.11/dist-packages (from qiskit-aer) (1.15.3)\n",
            "Requirement already satisfied: psutil>=5 in /usr/local/lib/python3.11/dist-packages (from qiskit-aer) (5.9.5)\n",
            "Requirement already satisfied: python-dateutil>=2.8.0 in /usr/local/lib/python3.11/dist-packages (from qiskit-aer) (2.9.0.post0)\n",
            "Requirement already satisfied: six>=1.5 in /usr/local/lib/python3.11/dist-packages (from python-dateutil>=2.8.0->qiskit-aer) (1.17.0)\n",
            "Requirement already satisfied: rustworkx>=0.15.0 in /usr/local/lib/python3.11/dist-packages (from qiskit>=1.1.0->qiskit-aer) (0.16.0)\n",
            "Requirement already satisfied: dill>=0.3 in /usr/local/lib/python3.11/dist-packages (from qiskit>=1.1.0->qiskit-aer) (0.3.7)\n",
            "Requirement already satisfied: stevedore>=3.0.0 in /usr/local/lib/python3.11/dist-packages (from qiskit>=1.1.0->qiskit-aer) (5.4.1)\n",
            "Requirement already satisfied: typing-extensions in /usr/local/lib/python3.11/dist-packages (from qiskit>=1.1.0->qiskit-aer) (4.14.1)\n",
            "Requirement already satisfied: pbr>=2.0.0 in /usr/local/lib/python3.11/dist-packages (from stevedore>=3.0.0->qiskit>=1.1.0->qiskit-aer) (6.1.1)\n",
            "Requirement already satisfied: setuptools in /usr/local/lib/python3.11/dist-packages (from pbr>=2.0.0->stevedore>=3.0.0->qiskit>=1.1.0->qiskit-aer) (75.2.0)\n",
            "Downloading qiskit_aer-0.17.1-cp311-cp311-manylinux_2_17_x86_64.manylinux2014_x86_64.whl (12.4 MB)\n",
            "\u001b[2K   \u001b[90m━━━━━━━━━━━━━━━━━━━━━━━━━━━━━━━━━━━━━━━━\u001b[0m \u001b[32m12.4/12.4 MB\u001b[0m \u001b[31m96.9 MB/s\u001b[0m eta \u001b[36m0:00:00\u001b[0m\n",
            "\u001b[?25hInstalling collected packages: qiskit-aer\n",
            "Successfully installed qiskit-aer-0.17.1\n"
          ]
        }
      ]
    },
    {
      "cell_type": "code",
      "source": [
        "import numpy as np\n",
        "from qiskit import QuantumCircuit, transpile\n",
        "# Cambia esta línea:\n",
        "# from qiskit import Aer  # <-- ESTO ES LO QUE ESTÁ CAUSANDO EL ERROR\n",
        "from qiskit_aer import Aer # <-- AHORA IMPORTA Aer DESDE qiskit_aer\n",
        "from qiskit.visualization import plot_histogram"
      ],
      "metadata": {
        "id": "qi9tVgsHc0xx"
      },
      "execution_count": null,
      "outputs": []
    },
    {
      "cell_type": "code",
      "source": [
        "# Paso 1: (Opcional) Desinstalar versiones previas para una instalación limpia\n",
        "# Ejecuta estas líneas si quieres asegurarte de que no haya conflictos\n",
        "# !pip uninstall qiskit -y\n",
        "# !pip uninstall qiskit-aer -y\n",
        "\n",
        "# Paso 2: Instalar Qiskit y qiskit-aer\n",
        "!pip install qiskit\n",
        "!pip install qiskit-aer\n",
        "\n",
        "# Paso 3: Importar las librerías (con la corrección para Aer)\n",
        "import numpy as np\n",
        "from qiskit import QuantumCircuit, transpile\n",
        "from qiskit_aer import Aer # Importa Aer desde qiskit_aer\n",
        "from qiskit.visualization import plot_histogram\n",
        "\n",
        "print(\"Librerías importadas correctamente.\")\n",
        "\n",
        "# A partir de aquí, puedes pegar el resto de tu código de Bernstein-Vazirani\n",
        "# que definiste en la respuesta anterior. Por ejemplo:\n",
        "\n",
        "# --- Inicio del código del algoritmo de Bernstein-Vazirani ---\n",
        "\n",
        "def create_oracle(num_qubits, secret_string):\n",
        "    qc_oracle = QuantumCircuit(num_qubits + 1)\n",
        "    s_list = [int(bit) for bit in secret_string]\n",
        "    for i in range(num_qubits):\n",
        "        if s_list[i] == 1:\n",
        "            qc_oracle.cx(i, num_qubits)\n",
        "    return qc_oracle.to_gate(label=f\"Oracle_{secret_string}\")\n",
        "\n",
        "def run_bernstein_vazirani(secret_string):\n",
        "    num_qubits = len(secret_string)\n",
        "    total_qubits = num_qubits + 1\n",
        "    qc = QuantumCircuit(total_qubits, num_qubits)\n",
        "    qc.x(num_qubits)\n",
        "    qc.h(range(total_qubits))\n",
        "    qc.barrier()\n",
        "    oracle = create_oracle(num_qubits, secret_string)\n",
        "    qc.append(oracle, range(total_qubits))\n",
        "    qc.barrier()\n",
        "    qc.h(range(num_qubits))\n",
        "    qc.measure(range(num_qubits), range(num_qubits))\n",
        "    return qc\n",
        "\n",
        "# Define tu cadena secreta (ejemplo: \"1101\")\n",
        "my_secret_string = \"10001\"\n",
        "\n",
        "# Ejecuta el circuito\n",
        "bv_circuit = run_bernstein_vazirani(my_secret_string)\n",
        "\n",
        "# Dibuja el circuito para visualizarlo\n",
        "print(\"\\nCircuito de Bernstein-Vazirani:\")\n",
        "print(bv_circuit)\n",
        "\n",
        "# Usa el simulador Aer (ahora importado correctamente)\n",
        "simulator = Aer.get_backend('qasm_simulator')\n",
        "\n",
        "# Transpila el circuito para optimizarlo para el simulador\n",
        "compiled_circuit = transpile(bv_circuit, simulator)\n",
        "\n",
        "# Ejecuta el circuito en el simulador\n",
        "job = simulator.run(compiled_circuit, shots=1)\n",
        "\n",
        "# Obtiene los resultados\n",
        "result = job.result()\n",
        "counts = result.get_counts(compiled_circuit)\n",
        "\n",
        "print(f\"\\nResultados de la simulación: {counts}\")\n",
        "\n",
        "measured_secret = list(counts.keys())[0]\n",
        "reversed_measured_secret = measured_secret[::-1]\n",
        "\n",
        "print(f\"Cadena secreta esperada: {my_secret_string}\")\n",
        "print(f\"Cadena secreta encontrada: {reversed_measured_secret}\")\n",
        "\n",
        "if my_secret_string == reversed_measured_secret:\n",
        "    print(\"¡El algoritmo de Bernstein-Vazirani encontró la cadena secreta correctamente!\")\n",
        "else:\n",
        "    print(\"Hubo un error o la cadena secreta no coincide.\")\n",
        "\n",
        "# Puedes visualizar el histograma de los resultados\n",
        "plot_histogram(counts)"
      ],
      "metadata": {
        "colab": {
          "base_uri": "https://localhost:8080/",
          "height": 1000
        },
        "id": "HjK_QmLTc2ZY",
        "outputId": "f94a5622-2f4a-45ef-beb8-8c44d1cb2933"
      },
      "execution_count": null,
      "outputs": [
        {
          "output_type": "stream",
          "name": "stdout",
          "text": [
            "Requirement already satisfied: qiskit in /usr/local/lib/python3.11/dist-packages (2.1.1)\n",
            "Requirement already satisfied: rustworkx>=0.15.0 in /usr/local/lib/python3.11/dist-packages (from qiskit) (0.16.0)\n",
            "Requirement already satisfied: numpy<3,>=1.17 in /usr/local/lib/python3.11/dist-packages (from qiskit) (2.0.2)\n",
            "Requirement already satisfied: scipy>=1.5 in /usr/local/lib/python3.11/dist-packages (from qiskit) (1.15.3)\n",
            "Requirement already satisfied: dill>=0.3 in /usr/local/lib/python3.11/dist-packages (from qiskit) (0.3.7)\n",
            "Requirement already satisfied: stevedore>=3.0.0 in /usr/local/lib/python3.11/dist-packages (from qiskit) (5.4.1)\n",
            "Requirement already satisfied: typing-extensions in /usr/local/lib/python3.11/dist-packages (from qiskit) (4.14.1)\n",
            "Requirement already satisfied: pbr>=2.0.0 in /usr/local/lib/python3.11/dist-packages (from stevedore>=3.0.0->qiskit) (6.1.1)\n",
            "Requirement already satisfied: setuptools in /usr/local/lib/python3.11/dist-packages (from pbr>=2.0.0->stevedore>=3.0.0->qiskit) (75.2.0)\n",
            "Requirement already satisfied: qiskit-aer in /usr/local/lib/python3.11/dist-packages (0.17.1)\n",
            "Requirement already satisfied: qiskit>=1.1.0 in /usr/local/lib/python3.11/dist-packages (from qiskit-aer) (2.1.1)\n",
            "Requirement already satisfied: numpy>=1.16.3 in /usr/local/lib/python3.11/dist-packages (from qiskit-aer) (2.0.2)\n",
            "Requirement already satisfied: scipy>=1.0 in /usr/local/lib/python3.11/dist-packages (from qiskit-aer) (1.15.3)\n",
            "Requirement already satisfied: psutil>=5 in /usr/local/lib/python3.11/dist-packages (from qiskit-aer) (5.9.5)\n",
            "Requirement already satisfied: python-dateutil>=2.8.0 in /usr/local/lib/python3.11/dist-packages (from qiskit-aer) (2.9.0.post0)\n",
            "Requirement already satisfied: six>=1.5 in /usr/local/lib/python3.11/dist-packages (from python-dateutil>=2.8.0->qiskit-aer) (1.17.0)\n",
            "Requirement already satisfied: rustworkx>=0.15.0 in /usr/local/lib/python3.11/dist-packages (from qiskit>=1.1.0->qiskit-aer) (0.16.0)\n",
            "Requirement already satisfied: dill>=0.3 in /usr/local/lib/python3.11/dist-packages (from qiskit>=1.1.0->qiskit-aer) (0.3.7)\n",
            "Requirement already satisfied: stevedore>=3.0.0 in /usr/local/lib/python3.11/dist-packages (from qiskit>=1.1.0->qiskit-aer) (5.4.1)\n",
            "Requirement already satisfied: typing-extensions in /usr/local/lib/python3.11/dist-packages (from qiskit>=1.1.0->qiskit-aer) (4.14.1)\n",
            "Requirement already satisfied: pbr>=2.0.0 in /usr/local/lib/python3.11/dist-packages (from stevedore>=3.0.0->qiskit>=1.1.0->qiskit-aer) (6.1.1)\n",
            "Requirement already satisfied: setuptools in /usr/local/lib/python3.11/dist-packages (from pbr>=2.0.0->stevedore>=3.0.0->qiskit>=1.1.0->qiskit-aer) (75.2.0)\n",
            "Librerías importadas correctamente.\n",
            "\n",
            "Circuito de Bernstein-Vazirani:\n",
            "     ┌───┐      ░ ┌───────────────┐ ░ ┌───┐┌─┐            \n",
            "q_0: ┤ H ├──────░─┤0              ├─░─┤ H ├┤M├────────────\n",
            "     ├───┤      ░ │               │ ░ ├───┤└╥┘┌─┐         \n",
            "q_1: ┤ H ├──────░─┤1              ├─░─┤ H ├─╫─┤M├─────────\n",
            "     ├───┤      ░ │               │ ░ ├───┤ ║ └╥┘┌─┐      \n",
            "q_2: ┤ H ├──────░─┤2              ├─░─┤ H ├─╫──╫─┤M├──────\n",
            "     ├───┤      ░ │  Oracle_10001 │ ░ ├───┤ ║  ║ └╥┘┌─┐   \n",
            "q_3: ┤ H ├──────░─┤3              ├─░─┤ H ├─╫──╫──╫─┤M├───\n",
            "     ├───┤      ░ │               │ ░ ├───┤ ║  ║  ║ └╥┘┌─┐\n",
            "q_4: ┤ H ├──────░─┤4              ├─░─┤ H ├─╫──╫──╫──╫─┤M├\n",
            "     ├───┤┌───┐ ░ │               │ ░ └───┘ ║  ║  ║  ║ └╥┘\n",
            "q_5: ┤ X ├┤ H ├─░─┤5              ├─░───────╫──╫──╫──╫──╫─\n",
            "     └───┘└───┘ ░ └───────────────┘ ░       ║  ║  ║  ║  ║ \n",
            "c: 5/═══════════════════════════════════════╩══╩══╩══╩══╩═\n",
            "                                            0  1  2  3  4 \n",
            "\n",
            "Resultados de la simulación: {'10001': 1}\n",
            "Cadena secreta esperada: 10001\n",
            "Cadena secreta encontrada: 10001\n",
            "¡El algoritmo de Bernstein-Vazirani encontró la cadena secreta correctamente!\n"
          ]
        },
        {
          "output_type": "execute_result",
          "data": {
            "text/plain": [
              "<Figure size 640x480 with 1 Axes>"
            ],
            "image/png": "[encoded data removed]"
          },
          "metadata": {},
          "execution_count": 5
        }
      ]
    }
  ]
}